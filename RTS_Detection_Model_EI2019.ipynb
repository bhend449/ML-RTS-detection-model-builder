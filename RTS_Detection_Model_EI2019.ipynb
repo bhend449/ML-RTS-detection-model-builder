{
  "nbformat": 4,
  "nbformat_minor": 0,
  "metadata": {
    "colab": {
      "name": "RTS_Detection_Model_EI2019.ipynb",
      "version": "0.3.2",
      "provenance": [],
      "collapsed_sections": [],
      "toc_visible": true,
      "include_colab_link": true
    },
    "kernelspec": {
      "name": "python3",
      "display_name": "Python 3"
    }
  },
  "cells": [
    {
      "cell_type": "markdown",
      "metadata": {
        "id": "view-in-github",
        "colab_type": "text"
      },
      "source": [
        "<a href=\"https://colab.research.google.com/github/bhend449/ML-RTS-detection-model-builder/blob/master/RTS_Detection_Model_EI2019.ipynb\" target=\"_parent\"><img src=\"https://colab.research.google.com/assets/colab-badge.svg\" alt=\"Open In Colab\"/></a>"
      ]
    },
    {
      "metadata": {
        "id": "I2F739g-rY-y",
        "colab_type": "text"
      },
      "cell_type": "markdown",
      "source": [
        "#RTS Detection Modeler\n",
        "\n",
        "This creates a model to detect bi-stable RTS signals from a large array of unknown signals."
      ]
    },
    {
      "metadata": {
        "id": "kb79cMt9rPjX",
        "colab_type": "text"
      },
      "cell_type": "markdown",
      "source": [
        "###Mount to Google Drive\n",
        "\n",
        "Assume the files are stored on a private Google Drive folder"
      ]
    },
    {
      "metadata": {
        "id": "CkCpL3o9HOiS",
        "colab_type": "code",
        "outputId": "085870d5-f924-4299-81fa-cc6fa363e10a",
        "colab": {
          "base_uri": "https://localhost:8080/",
          "height": 122
        }
      },
      "cell_type": "code",
      "source": [
        "from google.colab import drive\n",
        "drive.mount('/content/gdrive')"
      ],
      "execution_count": 1,
      "outputs": [
        {
          "output_type": "stream",
          "text": [
            "Go to this URL in a browser: https://accounts.google.com/o/oauth2/auth?client_id=947318989803-6bn6qk8qdgf4n4g3pfee6491hc0brc4i.apps.googleusercontent.com&redirect_uri=urn%3Aietf%3Awg%3Aoauth%3A2.0%3Aoob&scope=email%20https%3A%2F%2Fwww.googleapis.com%2Fauth%2Fdocs.test%20https%3A%2F%2Fwww.googleapis.com%2Fauth%2Fdrive%20https%3A%2F%2Fwww.googleapis.com%2Fauth%2Fdrive.photos.readonly%20https%3A%2F%2Fwww.googleapis.com%2Fauth%2Fpeopleapi.readonly&response_type=code\n",
            "\n",
            "Enter your authorization code:\n",
            "··········\n",
            "Mounted at /content/gdrive\n"
          ],
          "name": "stdout"
        }
      ]
    },
    {
      "metadata": {
        "id": "rMiGbIm7tEk3",
        "colab_type": "text"
      },
      "cell_type": "markdown",
      "source": [
        "###Check location of files "
      ]
    },
    {
      "metadata": {
        "id": "jgsGEA-QplUn",
        "colab_type": "code",
        "outputId": "d105b6b4-bb56-43ef-b48e-23560e66e766",
        "colab": {
          "base_uri": "https://localhost:8080/",
          "height": 34
        }
      },
      "cell_type": "code",
      "source": [
        "\n",
        "!ls \"/content/gdrive/My Drive/Colab data files\""
      ],
      "execution_count": 0,
      "outputs": [
        {
          "output_type": "stream",
          "text": [
            "model.png  RTSvecTrainMicroScaled.mat  WNvecTrainMicroScaled.mat\n"
          ],
          "name": "stdout"
        }
      ]
    },
    {
      "metadata": {
        "id": "r5hdjciFtKSh",
        "colab_type": "text"
      },
      "cell_type": "markdown",
      "source": [
        "###Import .mat files with SciPi and prepare the training and testing sets\n"
      ]
    },
    {
      "metadata": {
        "id": "X9NkmX1mp5la",
        "colab_type": "code",
        "colab": {}
      },
      "cell_type": "code",
      "source": [
        "import matplotlib\n",
        "import matplotlib.pyplot as plt\n",
        "import h5py\n",
        "import numpy as np\n",
        "import scipy.io\n",
        "'''\n",
        "        Import two vectors, one RTS and another white noise\n",
        "'''\n",
        "\n",
        "mat = scipy.io.loadmat(\"/content/gdrive/My Drive/Colab data files/WNvecTrainMicroScaled.mat\")\n",
        "WNvec = mat[\"ScaledSet\"]   # Must be called the same as the variable it was saved \n",
        "                    # under in Matlab (or however the block was created)\n",
        "WNvec = np.array(WNvec)\n",
        "#WNvec = np.transpose(WNvec)\n",
        "\n",
        "mat = scipy.io.loadmat(\"/content/gdrive/My Drive/Colab data files/RTSvecTrainMicroScaled.mat\")\n",
        "RTSvec = mat[\"RTSdata\"]   # Must be called the same as the variable it was saved \n",
        "                    # under in Matlab (or however the block was created)\n",
        "RTSvec = np.array(RTSvec)\n",
        "'''\n",
        "        Plot a few to double check you're working with the correct data\n",
        "'''\n",
        "'''\n",
        "x = np.arange(0,1500)\n",
        "for i in range(9000,10000):\n",
        "        p = WNvec[i,:]\n",
        "        plt.plot(x,p)\n",
        "        plt.savefig('C:/Users/Ben WORK ONLY/Desktop/GH repos/RTS ML detect beta/%d' % (i))\n",
        "        plt.close()\n",
        "'''\n",
        "'''\n",
        "        Randomize the order of columns(?) and combine data sets\n",
        "'''\n",
        "\n",
        "np.random.shuffle(RTSvec)\n",
        "np.random.shuffle(WNvec)\n",
        "\n",
        "RTStrain,RTStest = RTSvec[:80000,:],RTSvec[80000:,:]\n",
        "WNtrain,WNtest = WNvec[:80000,:],WNvec[80000:,:]\n",
        "\n",
        "\n",
        "x_train = np.concatenate((RTStrain,WNtrain),axis=0)\n",
        "x_test = np.concatenate((RTStest,WNtest),axis=0)\n",
        "\n",
        "y_train = np.zeros(160000)\n",
        "y_train[80000:]=1\n",
        "y_test = np.zeros(20000)\n",
        "y_test[10000:]=1\n",
        "\n",
        "     \n",
        "del RTStest\n",
        "del RTStrain\n",
        "del RTSvec\n",
        "del WNtest\n",
        "del WNtrain\n",
        "del WNvec"
      ],
      "execution_count": 0,
      "outputs": []
    },
    {
      "metadata": {
        "id": "cSrScwnKyYM5",
        "colab_type": "text"
      },
      "cell_type": "markdown",
      "source": [
        "###Inspect the variables"
      ]
    },
    {
      "metadata": {
        "id": "Nk04KuYhxJml",
        "colab_type": "code",
        "outputId": "7ec8bed9-e2ea-44cf-e39f-cbfa9cd5425b",
        "colab": {
          "base_uri": "https://localhost:8080/",
          "height": 2808
        }
      },
      "cell_type": "code",
      "source": [
        "variables = %who_ls\n",
        "for v in variables:\n",
        "    print(v, type(eval(v)).__name__, str(eval(v)))\n",
        "\n",
        "\n",
        "print('x_train = ',np.shape(x_train))\n",
        "print('x_test = ',np.shape(x_test))\n",
        "print('y_train = ',np.shape(y_train))\n",
        "print('y_test = ',np.shape(y_test))\n"
      ],
      "execution_count": 0,
      "outputs": [
        {
          "output_type": "stream",
          "text": [
            "Activation type <class 'keras.layers.core.Activation'>\n",
            "Conv1D type <class 'keras.layers.convolutional.Conv1D'>\n",
            "Dense type <class 'keras.layers.core.Dense'>\n",
            "Dropout type <class 'keras.layers.core.Dropout'>\n",
            "Embedding type <class 'keras.layers.embeddings.Embedding'>\n",
            "Flatten type <class 'keras.layers.core.Flatten'>\n",
            "GlobalAveragePooling1D type <class 'keras.layers.pooling.GlobalAveragePooling1D'>\n",
            "LSTM type <class 'keras.layers.recurrent.LSTM'>\n",
            "MaxPooling1D type <class 'keras.layers.pooling.MaxPooling1D'>\n",
            "Sequential type <class 'keras.engine.sequential.Sequential'>\n",
            "X_test ndarray [[[0.33514777]\n",
            "  [0.17056111]\n",
            "  [0.21287812]\n",
            "  ...\n",
            "  [0.65930081]\n",
            "  [0.74429395]\n",
            "  [0.74751007]]\n",
            "\n",
            " [[0.19815345]\n",
            "  [0.37758127]\n",
            "  [0.21647565]\n",
            "  ...\n",
            "  [0.08159848]\n",
            "  [0.2374728 ]\n",
            "  [0.46649323]]\n",
            "\n",
            " [[0.47576634]\n",
            "  [0.44945879]\n",
            "  [0.3874687 ]\n",
            "  ...\n",
            "  [0.70991637]\n",
            "  [0.50191965]\n",
            "  [0.65678079]]\n",
            "\n",
            " ...\n",
            "\n",
            " [[0.49994813]\n",
            "  [0.43655318]\n",
            "  [0.32192905]\n",
            "  ...\n",
            "  [0.58576659]\n",
            "  [0.52918915]\n",
            "  [0.76833364]]\n",
            "\n",
            " [[0.5223964 ]\n",
            "  [0.30475277]\n",
            "  [0.4693057 ]\n",
            "  ...\n",
            "  [0.37380557]\n",
            "  [0.42864202]\n",
            "  [0.4500662 ]]\n",
            "\n",
            " [[0.26909232]\n",
            "  [0.59698746]\n",
            "  [0.50945848]\n",
            "  ...\n",
            "  [0.44220301]\n",
            "  [0.45262563]\n",
            "  [0.46414084]]]\n",
            "X_train ndarray [[[0.3035849 ]\n",
            "  [0.448278  ]\n",
            "  [0.22287077]\n",
            "  ...\n",
            "  [0.63437397]\n",
            "  [0.67043026]\n",
            "  [0.61016415]]\n",
            "\n",
            " [[0.27483412]\n",
            "  [0.35427963]\n",
            "  [0.42461286]\n",
            "  ...\n",
            "  [0.63354639]\n",
            "  [0.7505325 ]\n",
            "  [0.80517578]]\n",
            "\n",
            " [[0.6658859 ]\n",
            "  [0.7222434 ]\n",
            "  [0.63331083]\n",
            "  ...\n",
            "  [0.34484923]\n",
            "  [0.27046654]\n",
            "  [0.26031732]]\n",
            "\n",
            " ...\n",
            "\n",
            " [[0.55958206]\n",
            "  [0.28981156]\n",
            "  [0.67199915]\n",
            "  ...\n",
            "  [0.49171743]\n",
            "  [0.39960522]\n",
            "  [0.45815788]]\n",
            "\n",
            " [[0.4340518 ]\n",
            "  [0.59289148]\n",
            "  [0.1642735 ]\n",
            "  ...\n",
            "  [0.34937514]\n",
            "  [0.41673488]\n",
            "  [0.74580011]]\n",
            "\n",
            " [[0.58687643]\n",
            "  [0.54832719]\n",
            "  [0.46394028]\n",
            "  ...\n",
            "  [0.57106001]\n",
            "  [0.66662752]\n",
            "  [0.82772743]]]\n",
            "ann_viz function <function ann_viz at 0x7f79290970d0>\n",
            "drive module <module 'google.colab.drive' from '/usr/local/lib/python3.6/dist-packages/google/colab/drive.py'>\n",
            "f str /content/gdrive/My Drive/Colab data files/WNvecTrainMicroScaled.mat\n",
            "h5py module <module 'h5py' from '/usr/local/lib/python3.6/dist-packages/h5py/__init__.py'>\n",
            "mat dict {'__header__': b'MATLAB 5.0 MAT-file, Platform: PCWIN64, Created on: Sun Dec 16 16:40:38 2018', '__version__': '1.0', '__globals__': [], 'RTSdata': array([[0.37675271, 0.29618924, 0.42501315, ..., 0.27329266, 0.75398446,\n",
            "        0.52338596],\n",
            "       [0.55165801, 0.40010127, 0.3982244 , ..., 0.25280917, 0.37281618,\n",
            "        0.83361195],\n",
            "       [0.36244859, 0.53482267, 0.66167355, ..., 0.73957686, 0.30839801,\n",
            "        0.31334526],\n",
            "       ...,\n",
            "       [0.999001  , 0.6789738 , 0.80460875, ..., 0.93238997, 0.62244717,\n",
            "        0.73275286],\n",
            "       [0.24328589, 0.2917906 , 0.24590173, ..., 0.23232643, 0.33148367,\n",
            "        0.29759837],\n",
            "       [0.26521908, 0.27953052, 0.22466222, ..., 0.81539527, 0.79022043,\n",
            "        0.75770402]])}\n",
            "matplotlib module <module 'matplotlib' from '/usr/local/lib/python3.6/dist-packages/matplotlib/__init__.py'>\n",
            "model Sequential <keras.engine.sequential.Sequential object at 0x7f79346936a0>\n",
            "models module <module 'lucid.modelzoo.vision_models' from '/usr/local/lib/python3.6/dist-packages/lucid/modelzoo/vision_models.py'>\n",
            "np module <module 'numpy' from '/usr/local/lib/python3.6/dist-packages/numpy/__init__.py'>\n",
            "objectives module <module 'lucid.optvis.objectives' from '/usr/local/lib/python3.6/dist-packages/lucid/optvis/objectives.py'>\n",
            "param module <module 'lucid.optvis.param' from '/usr/local/lib/python3.6/dist-packages/lucid/optvis/param/__init__.py'>\n",
            "plot_model function <function plot_model at 0x7f7929808950>\n",
            "plt module <module 'matplotlib.pyplot' from '/usr/local/lib/python3.6/dist-packages/matplotlib/pyplot.py'>\n",
            "pydot module <module 'pydot' from '/usr/local/lib/python3.6/dist-packages/pydot.py'>\n",
            "render module <module 'lucid.optvis.render' from '/usr/local/lib/python3.6/dist-packages/lucid/optvis/render.py'>\n",
            "scipy module <module 'scipy' from '/usr/local/lib/python3.6/dist-packages/scipy/__init__.py'>\n",
            "score list [0.18100624472916452, 0.936]\n",
            "show function <function show at 0x7f7928f9fd90>\n",
            "tf module <module 'tensorflow' from '/usr/local/lib/python3.6/dist-packages/tensorflow/__init__.py'>\n",
            "transform module <module 'lucid.optvis.transform' from '/usr/local/lib/python3.6/dist-packages/lucid/optvis/transform.py'>\n",
            "v str v\n",
            "variables list ['Activation', 'Conv1D', 'Dense', 'Dropout', 'Embedding', 'Flatten', 'GlobalAveragePooling1D', 'LSTM', 'MaxPooling1D', 'Sequential', 'X_test', 'X_train', 'ann_viz', 'drive', 'f', 'h5py', 'mat', 'matplotlib', 'model', 'models', 'np', 'objectives', 'param', 'plot_model', 'plt', 'pydot', 'render', 'scipy', 'score', 'show', 'tf', 'transform', 'v', 'variables', 'x_s', 'x_test', 'x_train', 'y_test', 'y_train']\n",
            "x_s tuple (160000, 1500)\n",
            "x_test ndarray [[0.67879821 0.61457071 0.73713958 ... 0.75353791 0.74319968 0.74816304]\n",
            " [0.64741141 0.62506841 0.81713591 ... 0.35006225 0.37302539 0.69454318]\n",
            " [0.74220461 0.47387114 0.58597193 ... 0.61236845 0.26810319 0.43432195]\n",
            " ...\n",
            " [0.51002318 0.513303   0.53598574 ... 0.38149632 0.45401484 0.38990326]\n",
            " [0.34339518 0.24984953 0.54879929 ... 0.61319225 0.49910167 0.32168922]\n",
            " [0.61802639 0.26860507 0.38953879 ... 0.87251496 0.53862707 0.41662927]]\n",
            "x_train ndarray [[0.77151799 0.70759238 0.72761759 ... 0.34029339 0.40457225 0.37300778]\n",
            " [0.65929968 0.76460248 0.61737527 ... 0.43193756 0.40227155 0.21691607]\n",
            " [0.62853807 0.70525787 0.87511474 ... 0.69258212 0.68972226 0.81867758]\n",
            " ...\n",
            " [0.4731987  0.28707232 0.57517394 ... 0.47627916 0.44780566 0.5289744 ]\n",
            " [0.38367027 0.55996539 0.5442378  ... 0.37885802 0.55668094 0.44185066]\n",
            " [0.5300126  0.70282863 0.57344802 ... 0.36855385 0.44722007 0.54219875]]\n",
            "y_test ndarray [0. 0. 0. ... 1. 1. 1.]\n",
            "y_train ndarray [0. 0. 0. ... 1. 1. 1.]\n",
            "x_train =  (160000, 1500)\n",
            "x_test =  (20000, 1500)\n",
            "y_train =  (160000,)\n",
            "y_test =  (20000,)\n"
          ],
          "name": "stdout"
        }
      ]
    },
    {
      "metadata": {
        "id": "KSAY0vre0Hgf",
        "colab_type": "text"
      },
      "cell_type": "markdown",
      "source": [
        "### Define the structure of the model\n",
        "\n"
      ]
    },
    {
      "metadata": {
        "id": "qNxylaHe0Rge",
        "colab_type": "code",
        "outputId": "670819a7-7806-439b-9c0f-974c07fe07db",
        "colab": {
          "base_uri": "https://localhost:8080/",
          "height": 34
        }
      },
      "cell_type": "code",
      "source": [
        "from keras.models import Sequential\n",
        "from keras.layers import Dense, Dropout,Activation\n",
        "from keras.layers import Embedding\n",
        "from keras.layers import Conv1D, GlobalAveragePooling1D, MaxPooling1D, Flatten, LSTM\n",
        "import numpy as np\n",
        "\n",
        "X_train = np.expand_dims(x_train, axis=2) # reshape (569, 30) to (569, 30, 1) \n",
        "X_test = np.expand_dims(x_test, axis=2) # reshape (569, 30) to (569, 30, 1) \n",
        "\n",
        "model = Sequential()\n",
        "model.add(Conv1D(32, 12, activation='relu', input_shape=(1500, 1)))\n",
        "model.add(MaxPooling1D(3))\n",
        "model.add(Dropout(0.5))\n",
        "model.add(Conv1D(64, 12, activation='relu'))\n",
        "model.add(MaxPooling1D(3))\n",
        "model.add(Dropout(0.5))\n",
        "model.add(Conv1D(128, 12, activation='relu'))\n",
        "model.add(GlobalAveragePooling1D())\n",
        "model.add(Dropout(0.5))\n",
        "model.add(Dense(1, activation='sigmoid'))\n",
        "\n",
        "model.compile(loss='binary_crossentropy',\n",
        "              optimizer='rmsprop',\n",
        "              metrics=['accuracy'])"
      ],
      "execution_count": 0,
      "outputs": [
        {
          "output_type": "stream",
          "text": [
            "Using TensorFlow backend.\n"
          ],
          "name": "stderr"
        }
      ]
    },
    {
      "metadata": {
        "id": "NI1iPH560ZWS",
        "colab_type": "text"
      },
      "cell_type": "markdown",
      "source": [
        "### Fit the model and Score"
      ]
    },
    {
      "metadata": {
        "id": "AV0YXu_Q0hqe",
        "colab_type": "code",
        "outputId": "60697f93-a362-45d8-9d4f-23783ac91372",
        "colab": {
          "base_uri": "https://localhost:8080/",
          "height": 102
        }
      },
      "cell_type": "code",
      "source": [
        "model.fit(X_train, y_train, batch_size=16, epochs=2)\n",
        "score = model.evaluate(X_test, y_test, batch_size=16)"
      ],
      "execution_count": 0,
      "outputs": [
        {
          "output_type": "stream",
          "text": [
            "Epoch 1/2\n",
            "160000/160000 [==============================] - 972s 6ms/step - loss: 0.2826 - acc: 0.8888\n",
            "Epoch 2/2\n",
            "160000/160000 [==============================] - 961s 6ms/step - loss: 0.2157 - acc: 0.9244\n",
            "20000/20000 [==============================] - 34s 2ms/step\n"
          ],
          "name": "stdout"
        }
      ]
    },
    {
      "metadata": {
        "id": "NAsftCh59jar",
        "colab_type": "code",
        "outputId": "0d563591-27b2-4912-9e80-306ab56cb267",
        "colab": {
          "base_uri": "https://localhost:8080/",
          "height": 153
        }
      },
      "cell_type": "code",
      "source": [
        "# https://pypi.python.org/pypi/pydot\n",
        "!apt-get -qq install -y graphviz && pip install -q pydot && pip3 install ann_visualizer\n",
        "import pydot"
      ],
      "execution_count": 0,
      "outputs": [
        {
          "output_type": "stream",
          "text": [
            "Collecting ann_visualizer\n",
            "  Downloading https://files.pythonhosted.org/packages/db/51/157be500337fba347e32711aaf9f11c1ba9e1162f486a1d708b4ae594ea4/ann_visualizer-2.5.tar.gz\n",
            "Building wheels for collected packages: ann-visualizer\n",
            "  Running setup.py bdist_wheel for ann-visualizer ... \u001b[?25l-\b \bdone\n",
            "\u001b[?25h  Stored in directory: /root/.cache/pip/wheels/b6/b4/4e/d92f50c9c4f004cf315a0e0fcd455486bd799c50fe80cf1f5d\n",
            "Successfully built ann-visualizer\n",
            "Installing collected packages: ann-visualizer\n",
            "Successfully installed ann-visualizer-2.5\n"
          ],
          "name": "stdout"
        }
      ]
    },
    {
      "metadata": {
        "id": "P539eoifBbXN",
        "colab_type": "code",
        "outputId": "3049cba4-2d48-4cec-877e-5f5629bb6b0d",
        "colab": {
          "base_uri": "https://localhost:8080/",
          "height": 476
        }
      },
      "cell_type": "code",
      "source": [
        "model.summary()"
      ],
      "execution_count": 0,
      "outputs": [
        {
          "output_type": "stream",
          "text": [
            "_________________________________________________________________\n",
            "Layer (type)                 Output Shape              Param #   \n",
            "=================================================================\n",
            "conv1d_1 (Conv1D)            (None, 1489, 32)          416       \n",
            "_________________________________________________________________\n",
            "max_pooling1d_1 (MaxPooling1 (None, 496, 32)           0         \n",
            "_________________________________________________________________\n",
            "dropout_1 (Dropout)          (None, 496, 32)           0         \n",
            "_________________________________________________________________\n",
            "conv1d_2 (Conv1D)            (None, 485, 64)           24640     \n",
            "_________________________________________________________________\n",
            "max_pooling1d_2 (MaxPooling1 (None, 161, 64)           0         \n",
            "_________________________________________________________________\n",
            "dropout_2 (Dropout)          (None, 161, 64)           0         \n",
            "_________________________________________________________________\n",
            "conv1d_3 (Conv1D)            (None, 150, 128)          98432     \n",
            "_________________________________________________________________\n",
            "global_average_pooling1d_1 ( (None, 128)               0         \n",
            "_________________________________________________________________\n",
            "dropout_3 (Dropout)          (None, 128)               0         \n",
            "_________________________________________________________________\n",
            "dense_1 (Dense)              (None, 1)                 129       \n",
            "=================================================================\n",
            "Total params: 123,617\n",
            "Trainable params: 123,617\n",
            "Non-trainable params: 0\n",
            "_________________________________________________________________\n"
          ],
          "name": "stdout"
        }
      ]
    },
    {
      "metadata": {
        "id": "qfi_gQA0HIqd",
        "colab_type": "code",
        "colab": {}
      },
      "cell_type": "code",
      "source": [
        "from keras.utils import plot_model\n",
        "plot_model(model, to_file='/content/gdrive/My Drive/Colab data files/model_EI2019.png')"
      ],
      "execution_count": 0,
      "outputs": []
    }
  ]
}