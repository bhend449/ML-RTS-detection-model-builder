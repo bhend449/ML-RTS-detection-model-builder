{
  "nbformat": 4,
  "nbformat_minor": 0,
  "metadata": {
    "colab": {
      "name": "RTS_Detection_Model_alpha.ipynb",
      "version": "0.3.2",
      "provenance": [],
      "collapsed_sections": [],
      "toc_visible": true,
      "include_colab_link": true
    },
    "kernelspec": {
      "name": "python3",
      "display_name": "Python 3"
    },
    "accelerator": "GPU"
  },
  "cells": [
    {
      "cell_type": "markdown",
      "metadata": {
        "id": "view-in-github",
        "colab_type": "text"
      },
      "source": [
        "<a href=\"https://colab.research.google.com/github/bhend449/ML-RTS-detection-model-builder/blob/master/RTS_Detection_Model_alpha.ipynb\" target=\"_parent\"><img src=\"https://colab.research.google.com/assets/colab-badge.svg\" alt=\"Open In Colab\"/></a>"
      ]
    },
    {
      "metadata": {
        "id": "I2F739g-rY-y",
        "colab_type": "text"
      },
      "cell_type": "markdown",
      "source": [
        "#RTS Detection Modeler\n",
        "\n",
        "This creates a model to detect bi-stable RTS signals from a large array of unknown signals."
      ]
    },
    {
      "metadata": {
        "id": "kb79cMt9rPjX",
        "colab_type": "text"
      },
      "cell_type": "markdown",
      "source": [
        "###Mount to Google Drive\n",
        "\n",
        "Assume the files are stored on a private Google Drive folder"
      ]
    },
    {
      "metadata": {
        "id": "CkCpL3o9HOiS",
        "colab_type": "code",
        "colab": {}
      },
      "cell_type": "code",
      "source": [
        "from google.colab import drive\n",
        "drive.mount('/content/gdrive')"
      ],
      "execution_count": 0,
      "outputs": []
    },
    {
      "metadata": {
        "id": "rMiGbIm7tEk3",
        "colab_type": "text"
      },
      "cell_type": "markdown",
      "source": [
        "###Check location of files "
      ]
    },
    {
      "metadata": {
        "id": "jgsGEA-QplUn",
        "colab_type": "code",
        "colab": {}
      },
      "cell_type": "code",
      "source": [
        "\n",
        "!ls \"/content/gdrive/My Drive/Colab data files\""
      ],
      "execution_count": 0,
      "outputs": []
    },
    {
      "metadata": {
        "id": "r5hdjciFtKSh",
        "colab_type": "text"
      },
      "cell_type": "markdown",
      "source": [
        "###Import .mat files with SciPi and prepare the training and testing sets\n"
      ]
    },
    {
      "metadata": {
        "id": "X9NkmX1mp5la",
        "colab_type": "code",
        "colab": {}
      },
      "cell_type": "code",
      "source": [
        "import matplotlib\n",
        "import matplotlib.pyplot as plt\n",
        "import h5py\n",
        "import numpy as np\n",
        "import scipy.io\n",
        "'''\n",
        "        Import two vectors, one RTS and another white noise\n",
        "'''\n",
        "\n",
        "mat = scipy.io.loadmat(\"/content/gdrive/My Drive/Colab data files/WNvecTrainMicroScaled.mat\")\n",
        "WNvec = mat[\"ScaledSet\"]   # Must be called the same as the variable it was saved \n",
        "                    # under in Matlab (or however the block was created)\n",
        "WNvec = np.array(WNvec)\n",
        "#WNvec = np.transpose(WNvec)\n",
        "\n",
        "mat = scipy.io.loadmat(\"/content/gdrive/My Drive/Colab data files/RTSvecTrainMicroScaled.mat\")\n",
        "RTSvec = mat[\"RTSdata\"]   # Must be called the same as the variable it was saved \n",
        "                    # under in Matlab (or however the block was created)\n",
        "RTSvec = np.array(RTSvec)\n",
        "'''\n",
        "        Plot a few to double check you're working with the correct data\n",
        "'''\n",
        "'''\n",
        "x = np.arange(0,1500)\n",
        "for i in range(9000,10000):\n",
        "        p = WNvec[i,:]\n",
        "        plt.plot(x,p)\n",
        "        plt.savefig('C:/Users/Ben WORK ONLY/Desktop/GH repos/RTS ML detect beta/%d' % (i))\n",
        "        plt.close()\n",
        "'''\n",
        "'''\n",
        "        Randomize the order of columns(?) and combine data sets\n",
        "'''\n",
        "\n",
        "np.random.shuffle(RTSvec)\n",
        "np.random.shuffle(WNvec)\n",
        "\n",
        "RTStrain,RTStest = RTSvec[:80000,:],RTSvec[80000:,:]\n",
        "WNtrain,WNtest = WNvec[:80000,:],WNvec[80000:,:]\n",
        "\n",
        "\n",
        "x_train = np.concatenate((RTStrain,WNtrain),axis=0)\n",
        "x_test = np.concatenate((RTStest,WNtest),axis=0)\n",
        "\n",
        "y_train = np.zeros(160000)\n",
        "y_train[80000:]=1\n",
        "y_test = np.zeros(20000)\n",
        "y_test[10000:]=1\n",
        "\n",
        "     \n",
        "del RTStest\n",
        "del RTStrain\n",
        "del RTSvec\n",
        "del WNtest\n",
        "del WNtrain\n",
        "del WNvec"
      ],
      "execution_count": 0,
      "outputs": []
    },
    {
      "metadata": {
        "id": "cSrScwnKyYM5",
        "colab_type": "text"
      },
      "cell_type": "markdown",
      "source": [
        "###Inspect the variables"
      ]
    },
    {
      "metadata": {
        "id": "Nk04KuYhxJml",
        "colab_type": "code",
        "outputId": "55d1aae6-af6c-44ca-cd84-82ed7d070994",
        "colab": {
          "base_uri": "https://localhost:8080/",
          "height": 700
        }
      },
      "cell_type": "code",
      "source": [
        "variables = %who_ls\n",
        "for v in variables:\n",
        "    print(v, type(eval(v)).__name__, str(eval(v)))\n",
        "\n",
        "\n",
        "print('x_train = ',np.shape(x_train))\n",
        "print('x_test = ',np.shape(x_test))\n",
        "print('y_train = ',np.shape(y_train))\n",
        "print('y_test = ',np.shape(y_test))\n"
      ],
      "execution_count": 4,
      "outputs": [
        {
          "output_type": "stream",
          "text": [
            "drive module <module 'google.colab.drive' from '/usr/local/lib/python3.6/dist-packages/google/colab/drive.py'>\n",
            "h5py module <module 'h5py' from '/usr/local/lib/python3.6/dist-packages/h5py/__init__.py'>\n",
            "mat dict {'__header__': b'MATLAB 5.0 MAT-file, Platform: PCWIN64, Created on: Sun Dec 16 16:40:38 2018', '__version__': '1.0', '__globals__': [], 'RTSdata': array([[0.37675271, 0.29618924, 0.42501315, ..., 0.27329266, 0.75398446,\n",
            "        0.52338596],\n",
            "       [0.55165801, 0.40010127, 0.3982244 , ..., 0.25280917, 0.37281618,\n",
            "        0.83361195],\n",
            "       [0.36244859, 0.53482267, 0.66167355, ..., 0.73957686, 0.30839801,\n",
            "        0.31334526],\n",
            "       ...,\n",
            "       [0.999001  , 0.6789738 , 0.80460875, ..., 0.93238997, 0.62244717,\n",
            "        0.73275286],\n",
            "       [0.24328589, 0.2917906 , 0.24590173, ..., 0.23232643, 0.33148367,\n",
            "        0.29759837],\n",
            "       [0.26521908, 0.27953052, 0.22466222, ..., 0.81539527, 0.79022043,\n",
            "        0.75770402]])}\n",
            "matplotlib module <module 'matplotlib' from '/usr/local/lib/python3.6/dist-packages/matplotlib/__init__.py'>\n",
            "np module <module 'numpy' from '/usr/local/lib/python3.6/dist-packages/numpy/__init__.py'>\n",
            "plt module <module 'matplotlib.pyplot' from '/usr/local/lib/python3.6/dist-packages/matplotlib/pyplot.py'>\n",
            "scipy module <module 'scipy' from '/usr/local/lib/python3.6/dist-packages/scipy/__init__.py'>\n",
            "x_test ndarray [[0.65552679 0.59085395 0.72197023 ... 0.34335264 0.25905389 0.35311788]\n",
            " [0.49611878 0.50846829 0.41854125 ... 0.20652091 0.36297539 0.3353841 ]\n",
            " [0.55121925 0.73379272 0.53546066 ... 0.45227615 0.7612292  0.81301942]\n",
            " ...\n",
            " [0.52957107 0.23311746 0.52023757 ... 0.77888009 0.67959044 0.37637244]\n",
            " [0.39042364 0.58337751 0.73153863 ... 0.47910792 0.59158947 0.38087147]\n",
            " [0.32318922 0.20787051 0.49605982 ... 0.62549579 0.29681615 0.5406573 ]]\n",
            "x_train ndarray [[0.79520391 0.94803104 0.68237664 ... 0.18879239 0.16534502 0.50221652]\n",
            " [0.39052968 0.21080698 0.24005993 ... 0.82298622 0.77606593 0.66362321]\n",
            " [0.36721389 0.38805322 0.23611748 ... 0.26648372 0.37484142 0.38550495]\n",
            " ...\n",
            " [0.64733899 0.75622217 0.74837007 ... 0.39327106 0.45728294 0.30488694]\n",
            " [0.39931043 0.63970397 0.51121954 ... 0.50077802 0.43831815 0.4432898 ]\n",
            " [0.47832833 0.73432927 0.19541596 ... 0.66176909 0.6700207  0.5956541 ]]\n",
            "y_test ndarray [0. 0. 0. ... 1. 1. 1.]\n",
            "y_train ndarray [0. 0. 0. ... 1. 1. 1.]\n",
            "x_train =  (160000, 1500)\n",
            "x_test =  (20000, 1500)\n",
            "y_train =  (160000,)\n",
            "y_test =  (20000,)\n"
          ],
          "name": "stdout"
        }
      ]
    },
    {
      "metadata": {
        "id": "KSAY0vre0Hgf",
        "colab_type": "text"
      },
      "cell_type": "markdown",
      "source": [
        "### Define the structure of the model\n",
        "\n"
      ]
    },
    {
      "metadata": {
        "id": "qNxylaHe0Rge",
        "colab_type": "code",
        "outputId": "bbed7022-9086-4db0-a1b9-d0d639dc67c7",
        "colab": {
          "base_uri": "https://localhost:8080/",
          "height": 34
        }
      },
      "cell_type": "code",
      "source": [
        "from keras.models import Sequential\n",
        "from keras.layers import Dense, Dropout,Activation\n",
        "from keras.layers import Embedding\n",
        "from keras.layers import Conv1D, GlobalAveragePooling1D, MaxPooling1D, Flatten, LSTM\n",
        "import numpy as np\n",
        "\n",
        "X_train = np.expand_dims(x_train, axis=2) # reshape (569, 30) to (569, 30, 1) \n",
        "X_test = np.expand_dims(x_test, axis=2) # reshape (569, 30) to (569, 30, 1) \n",
        "\n",
        "model = Sequential()\n",
        "model.add(Conv1D(32, 12, activation='relu',padding = 'same', input_shape=(1500, 1)))\n",
        "model.add(MaxPooling1D(3))\n",
        "model.add(Dropout(0.5))\n",
        "model.add(Conv1D(64, 12, activation='relu',padding = 'same'))\n",
        "model.add(MaxPooling1D(3))\n",
        "model.add(Dropout(0.5))\n",
        "model.add(Conv1D(128, 12, activation='relu',padding = 'same'))\n",
        "model.add(GlobalAveragePooling1D())\n",
        "model.add(Dropout(0.5))\n",
        "model.add(Dense(1, activation='sigmoid'))\n",
        "\n",
        "model.compile(loss='binary_crossentropy',\n",
        "              optimizer='rmsprop',\n",
        "              metrics=['accuracy'])"
      ],
      "execution_count": 6,
      "outputs": [
        {
          "output_type": "stream",
          "text": [
            "Using TensorFlow backend.\n"
          ],
          "name": "stderr"
        }
      ]
    },
    {
      "metadata": {
        "id": "NI1iPH560ZWS",
        "colab_type": "text"
      },
      "cell_type": "markdown",
      "source": [
        "### Fit the model and Score"
      ]
    },
    {
      "metadata": {
        "id": "AV0YXu_Q0hqe",
        "colab_type": "code",
        "outputId": "aff40b43-647b-49b8-e0f3-e84a791313ba",
        "colab": {
          "base_uri": "https://localhost:8080/",
          "height": 102
        }
      },
      "cell_type": "code",
      "source": [
        "model.fit(X_train, y_train, batch_size=16, epochs=2)\n",
        "score = model.evaluate(X_test, y_test, batch_size=16)"
      ],
      "execution_count": 8,
      "outputs": [
        {
          "output_type": "stream",
          "text": [
            "Epoch 1/2\n",
            "160000/160000 [==============================] - 137s 856us/step - loss: 0.2691 - acc: 0.8967\n",
            "Epoch 2/2\n",
            "160000/160000 [==============================] - 133s 828us/step - loss: 0.1875 - acc: 0.9375\n",
            "20000/20000 [==============================] - 5s 272us/step\n"
          ],
          "name": "stdout"
        }
      ]
    },
    {
      "metadata": {
        "id": "SVuPYz9nYCf0",
        "colab_type": "text"
      },
      "cell_type": "markdown",
      "source": [
        "### Model Summary"
      ]
    },
    {
      "metadata": {
        "id": "OVASkZ2FYEyZ",
        "colab_type": "code",
        "colab": {}
      },
      "cell_type": "code",
      "source": [
        "model.summary()"
      ],
      "execution_count": 0,
      "outputs": []
    },
    {
      "metadata": {
        "id": "L2BDKEqjYKAD",
        "colab_type": "text"
      },
      "cell_type": "markdown",
      "source": [
        "###Simple Plot of Model"
      ]
    },
    {
      "metadata": {
        "id": "NAsftCh59jar",
        "colab_type": "code",
        "colab": {}
      },
      "cell_type": "code",
      "source": [
        "# https://pypi.python.org/pypi/pydot\n",
        "!apt-get -qq install -y graphviz && pip install -q pydot\n",
        "import pydot"
      ],
      "execution_count": 0,
      "outputs": []
    },
    {
      "metadata": {
        "id": "qfi_gQA0HIqd",
        "colab_type": "code",
        "colab": {}
      },
      "cell_type": "code",
      "source": [
        "from keras.utils import plot_model\n",
        "plot_model(model, to_file='/content/gdrive/My Drive/Colab data files/model_alpha.png')"
      ],
      "execution_count": 0,
      "outputs": []
    }
  ]
}